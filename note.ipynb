{
 "cells": [
  {
   "cell_type": "code",
   "execution_count": 14,
   "metadata": {},
   "outputs": [],
   "source": [
    "import boto3\n",
    "import json"
   ]
  },
  {
   "cell_type": "code",
   "execution_count": 8,
   "metadata": {},
   "outputs": [],
   "source": [
    "#connect to aws\n",
    "\n",
    "session = boto3.Session( aws_access_key_id,\n",
    "       aws_secret_access_key,\n",
    "       region_name=region_name)\n",
    "kinesis_client = boto3.client(\"kinesis\", region_name=\"ca-central-1\")\n"
   ]
  },
  {
   "cell_type": "code",
   "execution_count": 10,
   "metadata": {},
   "outputs": [
    {
     "name": "stdout",
     "output_type": "stream",
     "text": [
      "{'ResponseMetadata': {'RequestId': 'd7192f76-b458-cf7a-b73d-57b9a682d232', 'HTTPStatusCode': 200, 'HTTPHeaders': {'x-amzn-requestid': 'd7192f76-b458-cf7a-b73d-57b9a682d232', 'x-amz-id-2': 'Bn/x5CIYwQEyXPhOYK1yyPoF7Lv7H2J5UUitmjMtJuDgmUnbJC0e42qwrjuXj0ruNVKYx1BcVUFOvL0PDmeZ1kS+f8GOJUhR', 'date': 'Mon, 10 Feb 2025 21:58:39 GMT', 'content-type': 'application/x-amz-json-1.1', 'content-length': '0', 'connection': 'keep-alive'}, 'RetryAttempts': 0}}\n"
     ]
    }
   ],
   "source": [
    "#create data stream\n",
    "response = kinesis_client.create_stream(StreamName = \"tweeter_stream\", ShardCount=1)\n",
    "\n",
    "print(response)"
   ]
  },
  {
   "cell_type": "code",
   "execution_count": 19,
   "metadata": {},
   "outputs": [
    {
     "name": "stdout",
     "output_type": "stream",
     "text": [
      "b'{\"tweet\": \"i am so happy\"}'\n"
     ]
    }
   ],
   "source": [
    "data = {\"tweet\":\"i am so happy\"}\n",
    "jdata = json.dumps(data).encode(\"utf-8\")\n",
    "print(jdata)"
   ]
  },
  {
   "cell_type": "code",
   "execution_count": 20,
   "metadata": {},
   "outputs": [],
   "source": [
    "response = kinesis_client.put_record(StreamName = \"tweeter_stream\", Data = jdata,PartitionKey=\"partition-1\" )"
   ]
  },
  {
   "cell_type": "code",
   "execution_count": 22,
   "metadata": {},
   "outputs": [
    {
     "name": "stdout",
     "output_type": "stream",
     "text": [
      "{\"tweet\": \"i am so happy\"}\n"
     ]
    }
   ],
   "source": [
    "#get records\n",
    "#1)get shard details \n",
    "\n",
    "response = kinesis_client.describe_stream(StreamName=\"tweeter_stream\")\n",
    "\n",
    "#2)get shard id\n",
    "shard_id = response[\"StreamDescription\"][\"Shards\"][0][\"ShardId\"]\n",
    "\n",
    "#3)get shard iterator\n",
    "response = kinesis_client.get_shard_iterator(\n",
    "    StreamName=\"tweeter_stream\",\n",
    "    ShardId=shard_id,\n",
    "    ShardIteratorType=\"TRIM_HORIZON\",  # or \"LATEST\"\n",
    ")\n",
    "\n",
    "shard_iterator = response[\"ShardIterator\"]\n",
    "\n",
    "#4)fetch records\n",
    "response = kinesis_client.get_records(ShardIterator=shard_iterator, Limit=10)\n",
    "\n",
    "# Extract records\n",
    "records = response[\"Records\"]\n",
    "for record in records:\n",
    "    print(record[\"Data\"].decode(\"utf-8\"))  # Decode JSON string back to dict if needed\n",
    "\n"
   ]
  }
 ],
 "metadata": {
  "kernelspec": {
   "display_name": "twitter_env",
   "language": "python",
   "name": "python3"
  },
  "language_info": {
   "codemirror_mode": {
    "name": "ipython",
    "version": 3
   },
   "file_extension": ".py",
   "mimetype": "text/x-python",
   "name": "python",
   "nbconvert_exporter": "python",
   "pygments_lexer": "ipython3",
   "version": "3.10.12"
  }
 },
 "nbformat": 4,
 "nbformat_minor": 2
}
